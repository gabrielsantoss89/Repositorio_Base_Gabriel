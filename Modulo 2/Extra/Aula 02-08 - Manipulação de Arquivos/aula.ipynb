{
 "cells": [
  {
   "cell_type": "markdown",
   "id": "170911bf",
   "metadata": {},
   "source": [
    "# Aula 1 - Intermediário"
   ]
  },
  {
   "cell_type": "code",
   "execution_count": 5,
   "id": "c3a730db",
   "metadata": {},
   "outputs": [
    {
     "data": {
      "text/plain": [
       "<_io.TextIOWrapper name='cidades.txt' mode='x' encoding='cp1252'>"
      ]
     },
     "execution_count": 5,
     "metadata": {},
     "output_type": "execute_result"
    }
   ],
   "source": [
    "# Criar Arquivo\n",
    "\n",
    "open('cidades.txt', 'x')\n"
   ]
  },
  {
   "cell_type": "code",
   "execution_count": null,
   "id": "81bec52d",
   "metadata": {},
   "outputs": [
    {
     "data": {
      "text/plain": [
       "25"
      ]
     },
     "execution_count": 21,
     "metadata": {},
     "output_type": "execute_result"
    }
   ],
   "source": [
    "# Gravar primeiro arquivo\n",
    "# Adicionar parametro \"W\" (CUIDADO)\n",
    "escrever = open('cidades.txt', 'w')\n",
    "escrever.write('SP; Barueri; R$ 5.800,00\\n')"
   ]
  },
  {
   "cell_type": "code",
   "execution_count": null,
   "id": "d795e99a",
   "metadata": {},
   "outputs": [
    {
     "data": {
      "text/plain": [
       "27"
      ]
     },
     "execution_count": 23,
     "metadata": {},
     "output_type": "execute_result"
    }
   ],
   "source": [
    "# Adicionar dados ao arquivo\n",
    "# Escrever adicionando dados no final do arquivo\n",
    "escrever = open('cidades.txt', 'a')\n",
    "escrever.write('MG; Belo Horizonte; R$ 4.500,00\\n')\n",
    "escrever.write('RJ; Rio de Janeiro; R$ 5.800,00\\n')\n",
    "escrever.write('BA; Salvador; R$ 15.500,00\\n')"
   ]
  },
  {
   "cell_type": "code",
   "execution_count": null,
   "id": "7e0e43fe",
   "metadata": {},
   "outputs": [],
   "source": [
    "# Gravar Lista\n",
    "\n",
    "addCidades = [\n",
    "    \n",
    "    'SP; Osasco R$ 3.500,00\\n',\n",
    "    'SP; Itapevi R$ 100.000,00\\n',\n",
    "    'BA; Xique-Xique R$ 2.000,00\\n',\n",
    "    'SP; Santana de Parnaíba R$ 15.900,00\\n',\n",
    "    'PI; Teresina R$ 7.500,00\\n',\n",
    "    'DF; Brasília R$ 80.500,00\\n',\n",
    "    'SP; Osasco R$ 3.500,00\\n',\n",
    "    'SP; Itapevi R$ 100.000,00\\n',\n",
    "    'BA; Xique-Xique R$ 2.000,00\\n',\n",
    "    'SP; Santana de Parnaíba R$ 15.900,00\\n',\n",
    "    'PI; Teresina R$ 7.500,00\\n',\n",
    "    'DF; Brasília R$ 80.500,00\\n',\n",
    " \n",
    "]\n",
    "\n",
    "\n",
    "addLista = open('cidades.txt', 'a')\n",
    "addLista.writelines(addCidades)"
   ]
  },
  {
   "cell_type": "code",
   "execution_count": null,
   "id": "e2056585",
   "metadata": {},
   "outputs": [
    {
     "name": "stdout",
     "output_type": "stream",
     "text": [
      "SP; Barueri; R$ 5.800,00\n",
      "MG; Belo Horizonte; R$ 4.500,00\n",
      "RJ; Rio de Janeiro; R$ 5.800,00\n",
      "BA; Salvador; R$ 15.500,00\n",
      "SP; Osasco R$ 3.500,00\n",
      "SP; Itapevi R$ 100.000,00\n",
      "BA; Xique-Xique R$ 2.000,00\n",
      "SP; Santana de Parnaíba R$ 15.900,00\n",
      "PI; Teresina R$ 7.500,00\n",
      "DF; Brasilia R$ 80.500,00\n",
      "SP; Osasco R$ 3.500,00\n",
      "SP; Itapevi R$ 100.000,00\n",
      "BA; Xique-Xique R$ 2.000,00\n",
      "SP; Santana de Parnaíba R$ 15.900,00\n",
      "PI; Teresina R$ 7.500,00\n",
      "DF; Brasilia R$ 80.500,00\n",
      "\n"
     ]
    }
   ],
   "source": [
    "# Carregar lista somente para a leitura \"R\"\n",
    "ler = open('cidades.txt', 'r')\n",
    "ver = ler.read()\n",
    "ler.close()\n",
    "\n",
    "print(ver)"
   ]
  }
 ],
 "metadata": {
  "kernelspec": {
   "display_name": "Python 3",
   "language": "python",
   "name": "python3"
  },
  "language_info": {
   "codemirror_mode": {
    "name": "ipython",
    "version": 3
   },
   "file_extension": ".py",
   "mimetype": "text/x-python",
   "name": "python",
   "nbconvert_exporter": "python",
   "pygments_lexer": "ipython3",
   "version": "3.13.2"
  }
 },
 "nbformat": 4,
 "nbformat_minor": 5
}
