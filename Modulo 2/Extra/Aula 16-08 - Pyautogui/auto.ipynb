{
 "cells": [
  {
   "cell_type": "code",
   "execution_count": null,
   "id": "38c82fe1",
   "metadata": {},
   "outputs": [],
   "source": [
    "import pyautogui\n",
    "import time\n",
    "\n",
    "pyautogui.hotkey('winleft', 'r')\n",
    "time.sleep(2)\n",
    "pyautogui.write('calc')\n",
    "pyautogui.press('enter')\n",
    "\n",
    "\n"
   ]
  },
  {
   "cell_type": "code",
   "execution_count": 29,
   "id": "8fb9e303",
   "metadata": {},
   "outputs": [],
   "source": [
    "# abrir automaticamente o site UOL e clicar na aba esportes\n",
    "\n",
    "pyautogui.hotkey('winleft', 'r')\n",
    "time.sleep(1)\n",
    "pyautogui.write('chrome')\n",
    "pyautogui.press('enter')\n",
    "time.sleep(4)\n",
    "pyautogui.click(x=1613, y=41)\n",
    "pyautogui.write('www.uol.com.br', interval=0.1)\n",
    "pyautogui.press('enter')\n",
    "time.sleep(3)\n",
    "# pyautogui.press('tab', presses=29, interval=0.1)\n",
    "# pyautogui.press('enter')\n",
    "pyautogui.click(x=806, y=288)\n"
   ]
  },
  {
   "cell_type": "code",
   "execution_count": 27,
   "id": "a2004902",
   "metadata": {},
   "outputs": [
    {
     "name": "stdout",
     "output_type": "stream",
     "text": [
      "Point(x=1613, y=41)\n"
     ]
    }
   ],
   "source": [
    "time.sleep(5)\n",
    "posicao = pyautogui.position()\n",
    "print(posicao)"
   ]
  },
  {
   "cell_type": "code",
   "execution_count": 55,
   "id": "0d1ec194",
   "metadata": {},
   "outputs": [
    {
     "name": "stdout",
     "output_type": "stream",
     "text": [
      "When you try your best, but you dont succeed\n",
      "When you get what you want, but not what you need\n",
      "When you feel so tired, but you cant sleep\n",
      "Stuck in reverse\n",
      "\n",
      "And the tears come streaming down your face\n",
      "When you lose something you cant replace\n",
      "When you love someone, but it goes to waste\n",
      "Could it be worse?\n",
      "\n",
      "Lights will guide you home\n",
      "And ignite your bones\n",
      "And I will try to fix you\n",
      "\n",
      "And high up above or down below\n",
      "When youre too in love to let it go\n",
      "But if you never try, youll never know\n",
      "Just what youre worth\n",
      "\n",
      "Lights will guide you home\n",
      "And ignite your bones\n",
      "And I will try to fix you\n"
     ]
    }
   ],
   "source": [
    "#criar um arquivo txt e inserir uma receita, poema ou musica\n",
    "#salvar esse arquivo com o nome: exercicio pyautogui - GABRIEL DOS SANTOS SILVA\n",
    "#na pasta projeto\n",
    "#fazer manualmente para eu entender os passos\n",
    "#bloco de notas atalho windows R: notepad\n",
    "#para salvar o arquivo apertar ctrl s \n",
    "\n",
    "musica = '''When you try your best, but you dont succeed\n",
    "When you get what you want, but not what you need\n",
    "When you feel so tired, but you cant sleep\n",
    "Stuck in reverse\n",
    "\n",
    "And the tears come streaming down your face\n",
    "When you lose something you cant replace\n",
    "When you love someone, but it goes to waste\n",
    "Could it be worse?\n",
    "\n",
    "Lights will guide you home\n",
    "And ignite your bones\n",
    "And I will try to fix you\n",
    "\n",
    "And high up above or down below\n",
    "When youre too in love to let it go\n",
    "But if you never try, youll never know\n",
    "Just what youre worth\n",
    "\n",
    "Lights will guide you home\n",
    "And ignite your bones\n",
    "And I will try to fix you'''\n",
    "\n",
    "print(musica)\n",
    "\n"
   ]
  },
  {
   "cell_type": "code",
   "execution_count": 56,
   "id": "27c66444",
   "metadata": {},
   "outputs": [],
   "source": [
    "textoConvertido = musica.split('\\n')\n",
    "pyautogui.hotkey('winleft', 'r')\n",
    "pyautogui.write('notepad', interval=0.2)\n",
    "pyautogui.press('enter')\n",
    "time.sleep(2)\n",
    "\n",
    "for i in textoConvertido:\n",
    "    pyautogui.write(i, interval=0.05)\n",
    "    pyautogui.press('enter')"
   ]
  },
  {
   "cell_type": "code",
   "execution_count": null,
   "id": "318a1b5e",
   "metadata": {},
   "outputs": [],
   "source": [
    "\n",
    "# abrir automaticamente o site UOL e clicar na aba esportes\n",
    "\n",
    "pyautogui.hotkey('winleft', 'r')\n",
    "time.sleep(1)\n",
    "pyautogui.write('chrome')\n",
    "pyautogui.press('enter')\n",
    "time.sleep(4)\n",
    "pyautogui.click(x=1613, y=41)\n",
    "pyautogui.write('www.uol.com.br', interval=0.1)\n",
    "pyautogui.press('enter')\n",
    "time.sleep(3)\n",
    "# pyautogui.press('tab', presses=29, interval=0.1)\n",
    "# pyautogui.press('enter')\n",
    "pyautogui.click(x=806, y=288)\n"
   ]
  }
 ],
 "metadata": {
  "kernelspec": {
   "display_name": "auto",
   "language": "python",
   "name": "python3"
  },
  "language_info": {
   "codemirror_mode": {
    "name": "ipython",
    "version": 3
   },
   "file_extension": ".py",
   "mimetype": "text/x-python",
   "name": "python",
   "nbconvert_exporter": "python",
   "pygments_lexer": "ipython3",
   "version": "3.13.2"
  }
 },
 "nbformat": 4,
 "nbformat_minor": 5
}
