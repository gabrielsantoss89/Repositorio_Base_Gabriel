{
 "cells": [
  {
   "cell_type": "markdown",
   "id": "72a24a64",
   "metadata": {},
   "source": [
    "# Aula 2 dia 09/08 - Introdução data Science\n"
   ]
  },
  {
   "cell_type": "code",
   "execution_count": 64,
   "id": "3649025e",
   "metadata": {},
   "outputs": [
    {
     "name": "stdout",
     "output_type": "stream",
     "text": [
      "Requirement already satisfied: pandas in c:\\users\\prog5\\desktop\\aula 09-08\\dados\\lib\\site-packages (2.3.1)\n",
      "Requirement already satisfied: numpy>=1.26.0 in c:\\users\\prog5\\desktop\\aula 09-08\\dados\\lib\\site-packages (from pandas) (2.3.2)\n",
      "Requirement already satisfied: python-dateutil>=2.8.2 in c:\\users\\prog5\\desktop\\aula 09-08\\dados\\lib\\site-packages (from pandas) (2.9.0.post0)\n",
      "Requirement already satisfied: pytz>=2020.1 in c:\\users\\prog5\\desktop\\aula 09-08\\dados\\lib\\site-packages (from pandas) (2025.2)\n",
      "Requirement already satisfied: tzdata>=2022.7 in c:\\users\\prog5\\desktop\\aula 09-08\\dados\\lib\\site-packages (from pandas) (2025.2)\n",
      "Requirement already satisfied: six>=1.5 in c:\\users\\prog5\\desktop\\aula 09-08\\dados\\lib\\site-packages (from python-dateutil>=2.8.2->pandas) (1.17.0)\n",
      "Note: you may need to restart the kernel to use updated packages.\n"
     ]
    },
    {
     "name": "stderr",
     "output_type": "stream",
     "text": [
      "\n",
      "[notice] A new release of pip is available: 24.3.1 -> 25.2\n",
      "[notice] To update, run: python.exe -m pip install --upgrade pip\n"
     ]
    }
   ],
   "source": [
    "# instalar o Pandas\n",
    "\n",
    "%pip install pandas"
   ]
  },
  {
   "cell_type": "code",
   "execution_count": 65,
   "id": "888502a8",
   "metadata": {},
   "outputs": [
    {
     "name": "stdout",
     "output_type": "stream",
     "text": [
      "    dia   valor  vendedor\n",
      "0     1  500000   Gabriel\n",
      "1     2   15000     Pedro\n",
      "2     3   75000  Patricia\n",
      "3     4   12550    Marcos\n",
      "4     4   60000    Mateus\n",
      "5     5   20000     Maria\n",
      "6     6    7500   Gabriel\n",
      "7     6   25000    Marcos\n",
      "8     7  300000    Mateus\n",
      "9     8    8000     Maria\n",
      "10    9   15000   Gabriel\n",
      "11   10    7000   Heloyza\n",
      "12   10   20000   Heloyza\n"
     ]
    }
   ],
   "source": [
    "#importar o pandas\n",
    "import pandas as pd\n",
    "\n",
    "df = pd.read_csv('dados.csv')\n",
    "\n",
    "print(df)"
   ]
  },
  {
   "cell_type": "code",
   "execution_count": 66,
   "id": "78cf235d",
   "metadata": {},
   "outputs": [
    {
     "name": "stdout",
     "output_type": "stream",
     "text": [
      "   dia   valor vendedor\n",
      "0    1  500000  Gabriel\n",
      "1    2   15000    Pedro\n",
      "\n",
      "Index(['dia', 'valor', 'vendedor'], dtype='object')\n"
     ]
    }
   ],
   "source": [
    "# vamos testar algumas funcionalidades do Pandas\n",
    "\n",
    "\n",
    "print(df.head(2)) # Imprimir somente as primeiras linhas\n",
    "print()\n",
    "print(df.columns) # Ver as colunas do dataset"
   ]
  },
  {
   "cell_type": "code",
   "execution_count": 67,
   "id": "dae8d53d",
   "metadata": {},
   "outputs": [
    {
     "name": "stdout",
     "output_type": "stream",
     "text": [
      "dia          int64\n",
      "valor        int64\n",
      "vendedor    object\n",
      "dtype: object\n"
     ]
    }
   ],
   "source": [
    "# ver o tipo de dados das colunas\n",
    "print(df.dtypes)"
   ]
  },
  {
   "cell_type": "code",
   "execution_count": 68,
   "id": "19184457",
   "metadata": {},
   "outputs": [
    {
     "name": "stdout",
     "output_type": "stream",
     "text": [
      "Faturamento de vendas: R$ 1065050.00 reais\n",
      "O valor de médio das vendas diárias foi de R$ 20000.00 reais\n"
     ]
    }
   ],
   "source": [
    "# Somar coluna de valor\n",
    "# não quero somar a planilha toda e sim só a coluna de valor\n",
    "faturamento = df['valor'].sum()\n",
    "print(f'Faturamento de vendas: R$ {faturamento:.2f} reais')\n",
    "\n",
    "# Calcular média\n",
    "mediaVendas = df['valor'].median()\n",
    "print(f'O valor de médio das vendas diárias foi de R$ {mediaVendas:.2f} reais')"
   ]
  },
  {
   "cell_type": "code",
   "execution_count": 69,
   "id": "13333c73",
   "metadata": {},
   "outputs": [
    {
     "name": "stdout",
     "output_type": "stream",
     "text": [
      "['Gabriel' 'Pedro' 'Patricia' 'Marcos' 'Mateus' 'Maria' 'Heloyza']\n",
      "\n",
      "vendedor\n",
      "Gabriel     522500\n",
      "Mateus      360000\n",
      "Patricia     75000\n",
      "Marcos       37550\n",
      "Maria        28000\n",
      "Heloyza      27000\n",
      "Pedro        15000\n",
      "Name: valor, dtype: int64\n"
     ]
    }
   ],
   "source": [
    "# Calculos agrupados\n",
    "\n",
    "# ver a lista de vendedores\n",
    "# quero ver quantos vendedores e quais são eles\n",
    "# isso é muito util em listas grandes\n",
    "print(df['vendedor'].unique())\n",
    "\n",
    "print() #dar espaço\n",
    "# Somar as vendas por vendedor\n",
    "vendasVendedor = df.groupby('vendedor')['valor'].sum()\n",
    "\n",
    "print(vendasVendedor.sort_values(ascending=False))\n",
    "\n"
   ]
  },
  {
   "cell_type": "code",
   "execution_count": 70,
   "id": "e0858e2b",
   "metadata": {},
   "outputs": [
    {
     "name": "stdout",
     "output_type": "stream",
     "text": [
      "    dia  valor vendedor\n",
      "11   10   7000  Heloyza\n",
      "6     6   7500  Gabriel\n",
      "9     8   8000    Maria\n"
     ]
    }
   ],
   "source": [
    "# ver apenas as vendas menores que dez mil\n",
    "\n",
    "\n",
    "filtroVendasMenor =  df[df['valor'] <10000]\n",
    "\n",
    "print(filtroVendasMenor.sort_values(by='valor'))"
   ]
  },
  {
   "cell_type": "code",
   "execution_count": 71,
   "id": "3421feb7",
   "metadata": {},
   "outputs": [
    {
     "name": "stdout",
     "output_type": "stream",
     "text": [
      "Requirement already satisfied: matplotlib in c:\\users\\prog5\\desktop\\aula 09-08\\dados\\lib\\site-packages (3.10.5)\n",
      "Requirement already satisfied: contourpy>=1.0.1 in c:\\users\\prog5\\desktop\\aula 09-08\\dados\\lib\\site-packages (from matplotlib) (1.3.3)\n",
      "Requirement already satisfied: cycler>=0.10 in c:\\users\\prog5\\desktop\\aula 09-08\\dados\\lib\\site-packages (from matplotlib) (0.12.1)\n",
      "Requirement already satisfied: fonttools>=4.22.0 in c:\\users\\prog5\\desktop\\aula 09-08\\dados\\lib\\site-packages (from matplotlib) (4.59.0)\n",
      "Requirement already satisfied: kiwisolver>=1.3.1 in c:\\users\\prog5\\desktop\\aula 09-08\\dados\\lib\\site-packages (from matplotlib) (1.4.8)\n",
      "Requirement already satisfied: numpy>=1.23 in c:\\users\\prog5\\desktop\\aula 09-08\\dados\\lib\\site-packages (from matplotlib) (2.3.2)\n",
      "Requirement already satisfied: packaging>=20.0 in c:\\users\\prog5\\desktop\\aula 09-08\\dados\\lib\\site-packages (from matplotlib) (25.0)\n",
      "Requirement already satisfied: pillow>=8 in c:\\users\\prog5\\desktop\\aula 09-08\\dados\\lib\\site-packages (from matplotlib) (11.3.0)\n",
      "Requirement already satisfied: pyparsing>=2.3.1 in c:\\users\\prog5\\desktop\\aula 09-08\\dados\\lib\\site-packages (from matplotlib) (3.2.3)\n",
      "Requirement already satisfied: python-dateutil>=2.7 in c:\\users\\prog5\\desktop\\aula 09-08\\dados\\lib\\site-packages (from matplotlib) (2.9.0.post0)\n",
      "Requirement already satisfied: six>=1.5 in c:\\users\\prog5\\desktop\\aula 09-08\\dados\\lib\\site-packages (from python-dateutil>=2.7->matplotlib) (1.17.0)\n",
      "Note: you may need to restart the kernel to use updated packages.\n"
     ]
    },
    {
     "name": "stderr",
     "output_type": "stream",
     "text": [
      "\n",
      "[notice] A new release of pip is available: 24.3.1 -> 25.2\n",
      "[notice] To update, run: python.exe -m pip install --upgrade pip\n"
     ]
    }
   ],
   "source": [
    "# Instalar o matplotlib\n",
    "%pip install matplotlib"
   ]
  },
  {
   "cell_type": "code",
   "execution_count": 74,
   "id": "a64518db",
   "metadata": {},
   "outputs": [
    {
     "data": {
      "image/png": "[encoded data removed]",
      "text/plain": [
       "<Figure size 800x600 with 1 Axes>"
      ]
     },
     "metadata": {},
     "output_type": "display_data"
    }
   ],
   "source": [
    "import matplotlib.pyplot as plt\n",
    "\n",
    "x = df['dia']\n",
    "y = df['valor']\n",
    "\n",
    "plt.figure(figsize=(8,6))\n",
    "plt.title('Vendas Diária')\n",
    "plt.bar(x,y, color=\"#8F2222\")\n",
    "plt.show()"
   ]
  },
  {
   "cell_type": "code",
   "execution_count": 75,
   "id": "858c92c8",
   "metadata": {},
   "outputs": [
    {
     "data": {
      "image/png": "[encoded data removed]",
      "text/plain": [
       "<Figure size 1000x700 with 1 Axes>"
      ]
     },
     "metadata": {},
     "output_type": "display_data"
    }
   ],
   "source": [
    "# criar um gráfico de vendas por vendedor\n",
    "\n",
    "import matplotlib.pyplot as plt\n",
    "\n",
    "x = df['vendedor']\n",
    "y = df['valor']\n",
    "\n",
    "plt.figure(figsize=(10,7))\n",
    "plt.title('Gráfico de vendas por vendedor')\n",
    "plt.bar(x,y, color=\"#8F2222\")\n",
    "plt.show()\n"
   ]
  }
 ],
 "metadata": {
  "kernelspec": {
   "display_name": "dados",
   "language": "python",
   "name": "python3"
  },
  "language_info": {
   "codemirror_mode": {
    "name": "ipython",
    "version": 3
   },
   "file_extension": ".py",
   "mimetype": "text/x-python",
   "name": "python",
   "nbconvert_exporter": "python",
   "pygments_lexer": "ipython3",
   "version": "3.13.2"
  }
 },
 "nbformat": 4,
 "nbformat_minor": 5
}
