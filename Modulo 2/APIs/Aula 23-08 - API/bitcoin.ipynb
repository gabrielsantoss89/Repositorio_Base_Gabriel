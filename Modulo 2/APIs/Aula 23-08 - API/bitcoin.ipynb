{
 "cells": [
  {
   "cell_type": "code",
   "execution_count": 53,
   "id": "783f1a77",
   "metadata": {},
   "outputs": [
    {
     "name": "stdout",
     "output_type": "stream",
     "text": [
      "200\n",
      "623533\n"
     ]
    }
   ],
   "source": [
    "# Consumir uma API publica para retornar o valor do bitcoin\n",
    "# em tempo real nas moedas Real, Dolar e Euro\n",
    "import requests\n",
    "\n",
    "valorCripto = requests.get('https://api.coingecko.com/api/v3/simple/price?ids=bitcoin&vs_currencies=brl,usd,eur')\n",
    "\n",
    "print(valorCripto.status_code)\n",
    "\n",
    "#print(valorCripto.text)\n",
    "\n",
    "moeda = valorCripto.json()\n",
    "\n",
    "print(moeda['bitcoin']['brl'])"
   ]
  },
  {
   "cell_type": "code",
   "execution_count": 54,
   "id": "c1b36182",
   "metadata": {},
   "outputs": [
    {
     "name": "stdout",
     "output_type": "stream",
     "text": [
      "Valor de 1 bitcoin em reais: R$623,533.00\n"
     ]
    }
   ],
   "source": [
    "bitcoinReais = moeda['bitcoin']['brl']\n",
    "\n",
    "print(f'Valor de 1 bitcoin em reais: R${bitcoinReais:,.2f}')\n",
    "\n"
   ]
  },
  {
   "cell_type": "code",
   "execution_count": 56,
   "id": "d84ea431",
   "metadata": {},
   "outputs": [
    {
     "name": "stdout",
     "output_type": "stream",
     "text": [
      "200\n",
      "115019\n",
      "Valor de 1 bitcoin em dolares: $115,019.00\n"
     ]
    }
   ],
   "source": [
    "#valor de bitcoin em dolar\n",
    "\n",
    "print(valorCripto.status_code)\n",
    "\n",
    "#print(valorCripto.text)\n",
    "\n",
    "dolar = valorCripto.json()\n",
    "\n",
    "print(moeda['bitcoin']['usd'])\n",
    "\n",
    "bitcoinDolar = dolar['bitcoin']['usd']\n",
    "\n",
    "print(f'Valor de 1 bitcoin em dolares: ${bitcoinDolar:,.2f}')"
   ]
  },
  {
   "cell_type": "code",
   "execution_count": 57,
   "id": "17e6a8e4",
   "metadata": {},
   "outputs": [
    {
     "name": "stdout",
     "output_type": "stream",
     "text": [
      "200\n",
      "98101\n",
      "Valor de 1 bitcoin em euro: £98,101.00\n"
     ]
    }
   ],
   "source": [
    "print(valorCripto.status_code)\n",
    "\n",
    "#print(valorCripto.text)\n",
    "\n",
    "euro = valorCripto.json()\n",
    "\n",
    "print(moeda['bitcoin']['eur'])\n",
    "\n",
    "bitcoinEuro = dolar['bitcoin']['eur']\n",
    "\n",
    "print(f'Valor de 1 bitcoin em euro: £{bitcoinEuro:,.2f}')"
   ]
  }
 ],
 "metadata": {
  "kernelspec": {
   "display_name": "aula",
   "language": "python",
   "name": "python3"
  },
  "language_info": {
   "codemirror_mode": {
    "name": "ipython",
    "version": 3
   },
   "file_extension": ".py",
   "mimetype": "text/x-python",
   "name": "python",
   "nbconvert_exporter": "python",
   "pygments_lexer": "ipython3",
   "version": "3.13.2"
  }
 },
 "nbformat": 4,
 "nbformat_minor": 5
}
