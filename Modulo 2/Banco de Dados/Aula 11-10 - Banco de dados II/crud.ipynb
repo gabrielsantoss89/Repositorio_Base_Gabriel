{
 "cells": [
  {
   "cell_type": "code",
   "execution_count": 19,
   "id": "f6327b54",
   "metadata": {},
   "outputs": [
    {
     "name": "stdout",
     "output_type": "stream",
     "text": [
      "conexão criada com sucesso\n"
     ]
    }
   ],
   "source": [
    "# Passo 1 - Importar o SQLite\n",
    "import sqlite3\n",
    "\n",
    "# Passo - 2\n",
    "# Criar conexão com o banco de dados\n",
    "# Na primeira execução será criado o banco\n",
    "# Toda vez que for necessário se CONECTAR com o banco de dados esse comando precisa ser rodado\n",
    "conexao = sqlite3.connect('agencia.db')\n",
    "\n",
    "# Passo 3 \n",
    "# - Criar um cursor\n",
    "# - Serve para executar scripts SQL dentro do banco\n",
    "\n",
    "cursor = conexao.cursor()\n",
    "\n",
    "print(\"conexão criada com sucesso\")"
   ]
  },
  {
   "cell_type": "markdown",
   "id": "57618e5e",
   "metadata": {},
   "source": [
    "## CRIAR TABELA DENTRO DO BANCO DE DADOS"
   ]
  },
  {
   "cell_type": "code",
   "execution_count": null,
   "id": "27e081c9",
   "metadata": {},
   "outputs": [
    {
     "name": "stdout",
     "output_type": "stream",
     "text": [
      "banco criado com sucesso\n"
     ]
    }
   ],
   "source": [
    "cursor.execute('''CREATE TABLE IF NOT EXISTS roupas(\n",
    "    id INTEGER PRIMARY KEY AUTOINCREMENT,\n",
    "    marca TEXT NOT NULL,\n",
    "    nome TEXT NOT NULL,\n",
    "    categoria TEXT NOT NULL,\n",
    "    tamanho INTEGER NOT NULL,\n",
    "    valor DECIMAL NOT NULL\n",
    "    \n",
    ");\n",
    "               \n",
    "               \n",
    "               ''') \n",
    "\n",
    "print('tabela criado com sucesso')"
   ]
  },
  {
   "cell_type": "markdown",
   "id": "006bc2d9",
   "metadata": {},
   "source": [
    "## C - CREATE"
   ]
  },
  {
   "cell_type": "code",
   "execution_count": null,
   "id": "10005ccb",
   "metadata": {},
   "outputs": [
    {
     "name": "stdout",
     "output_type": "stream",
     "text": [
      "produtos cadastrados\n"
     ]
    }
   ],
   "source": [
    "#cursor.execute(\"INSERT INTO roupas('marca','nome','categoria','tamanho','valor') VALUES(?,?,?,?,?)\",('Nike','Camisa Dry Fit','Camiseta',38,150 ))\n",
    "'''cursor.execute(\"INSERT INTO roupas('marca','nome','categoria','tamanho','valor') VALUES(?,?,?,?,?)\",('Nike','Camisa Dry Fit','Camiseta',38,150))\n",
    "cursor.execute(\"INSERT INTO roupas('marca','nome','categoria','tamanho','valor') VALUES(?,?,?,?,?)\",('Nike','Moletom Nike Club','Roupa de Frio',40,370))\n",
    "cursor.execute(\"INSERT INTO roupas('marca','nome','categoria','tamanho','valor') VALUES(?,?,?,?,?)\",('Adidas','Adidas Campus','Tênis',39,450))\n",
    "cursor.execute(\"INSERT INTO roupas('marca','nome','categoria','tamanho','valor') VALUES(?,?,?,?,?)\",('Nike','Air Max DN','Tênis',41,560))\n",
    "cursor.execute(\"INSERT INTO roupas('marca','nome','categoria','tamanho','valor') VALUES(?,?,?,?,?)\",('Corteiz','Camisa Corteiz Off White','Camiseta',38,100))\n",
    "cursor.execute(\"INSERT INTO roupas('marca','nome','categoria','tamanho','valor') VALUES(?,?,?,?,?)\",('Nike','Air Max 95 Neon','Tênis',38,500))\n",
    "cursor.execute(\"INSERT INTO roupas('marca','nome','categoria','tamanho','valor') VALUES(?,?,?,?,?)\",('Sumwon','Calça Baggy Clara','Calça',40,170))\n",
    "cursor.execute(\"INSERT INTO roupas('marca','nome','categoria','tamanho','valor') VALUES(?,?,?,?,?)\",('Sumwon','Calça Baggy Escura','Calça',38,190))\n",
    "cursor.execute(\"INSERT INTO roupas('marca','nome','categoria','tamanho','valor') VALUES(?,?,?,?,?)\",('Sumwon','Conjunto de Moletom Cinza','Roupa de Frio',40,230))\n",
    "cursor.execute(\"INSERT INTO roupas('marca','nome','categoria','tamanho','valor') VALUES(?,?,?,?,?)\",('New Balance','New Balance 9060','Tênis',41,530))\n",
    "cursor.execute(\"INSERT INTO roupas('marca','nome','categoria','tamanho','valor') VALUES(?,?,?,?,?)\",('New Balance','New Balance 550','Tênis',40,400))\n",
    "cursor.execute(\"INSERT INTO roupas('marca','nome','categoria','tamanho','valor') VALUES(?,?,?,?,?)\",('Asics','Asics Gel NYC','Tênis',39,560))\n",
    "cursor.execute(\"INSERT INTO roupas('marca','nome','categoria','tamanho','valor') VALUES(?,?,?,?,?)\",('Nike','Nike Air Force White','Tênis',38,300))\n",
    "cursor.execute(\"INSERT INTO roupas('marca','nome','categoria','tamanho','valor') VALUES(?,?,?,?,?)\",('Nike','Nike Air Force Black','Tênis',38,300))\n",
    "'''\n",
    "\n",
    "\n",
    "# Salvar dentro do banco de dados\n",
    "conexao.commit()\n",
    "conexao.close()\n",
    "print('produtos cadastrados')"
   ]
  },
  {
   "cell_type": "code",
   "execution_count": null,
   "id": "e136ace5",
   "metadata": {},
   "outputs": [
    {
     "name": "stdout",
     "output_type": "stream",
     "text": [
      "Consulta ao Banco de Dados:\n",
      "\n",
      "Marca: Nike - Nome: Camisa Dry Fit Azul - Categoria: Camiseta - Tamanho: 38 - Valor: 150\n",
      "Marca: Nike - Nome: Camisa Dry Fit - Categoria: Camiseta - Tamanho: 38 - Valor: 150\n",
      "Marca: Nike - Nome: Moletom Nike Club - Categoria: Roupa de Frio - Tamanho: 40 - Valor: 370\n",
      "Marca: Adidas - Nome: Adidas Campus - Categoria: Tênis - Tamanho: 39 - Valor: 450\n",
      "Marca: Nike - Nome: Air Max DN - Categoria: Tênis - Tamanho: 41 - Valor: 560\n",
      "Marca: Corteiz - Nome: Camisa Corteiz Off White - Categoria: Camiseta - Tamanho: 38 - Valor: 100\n",
      "Marca: Nike - Nome: Air Max 95 Neon - Categoria: Tênis - Tamanho: 38 - Valor: 500\n",
      "Marca: Sumwon - Nome: Calça Baggy Clara - Categoria: Calça - Tamanho: 40 - Valor: 170\n",
      "Marca: Sumwon - Nome: Calça Baggy Escura - Categoria: Calça - Tamanho: 38 - Valor: 190\n",
      "Marca: Sumwon - Nome: Conjunto de Moletom Cinza - Categoria: Roupa de Frio - Tamanho: 40 - Valor: 230\n",
      "Marca: New Balance - Nome: New Balance 9060 - Categoria: Tênis - Tamanho: 41 - Valor: 530\n",
      "Marca: New Balance - Nome: New Balance 550 - Categoria: Tênis - Tamanho: 40 - Valor: 400\n",
      "Marca: Asics - Nome: Asics Gel NYC - Categoria: Tênis - Tamanho: 39 - Valor: 560\n",
      "Marca: Nike - Nome: Nike Air Force White - Categoria: Tênis - Tamanho: 38 - Valor: 300\n",
      "Marca: Nike - Nome: Nike Air Force Black - Categoria: Tênis - Tamanho: 38 - Valor: 300\n",
      "\n",
      "________________________________________________________________\n",
      "\n",
      "Nomes e Valors:\n",
      "\n",
      "Camisa Dry Fit Azul - 150\n",
      "Camisa Dry Fit - 150\n",
      "Moletom Nike Club - 370\n",
      "Adidas Campus - 450\n",
      "Air Max DN - 560\n",
      "Camisa Corteiz Off White - 100\n",
      "Air Max 95 Neon - 500\n",
      "Calça Baggy Clara - 170\n",
      "Calça Baggy Escura - 190\n",
      "Conjunto de Moletom Cinza - 230\n",
      "New Balance 9060 - 530\n",
      "New Balance 550 - 400\n",
      "Asics Gel NYC - 560\n",
      "Nike Air Force White - 300\n",
      "Nike Air Force Black - 300\n"
     ]
    }
   ],
   "source": [
    "conexao = sqlite3.connect('agencia.db')\n",
    "cursor = conexao.cursor()\n",
    "\n",
    "# Mostrar todos os produtos\n",
    "consulta = cursor.execute(\"SELECT * FROM roupas\")\n",
    "print('Consulta ao Banco de Dados:\\n')\n",
    "for estoque in consulta.fetchall():\n",
    "    print(f'Marca: {estoque[1]} - Nome: {estoque[2]} - Categoria: {estoque[3]} - Tamanho: {estoque[4]} - Valor: {estoque[5]}')\n",
    "    \n",
    "print('\\n________________________________________________________________\\n')\n",
    "\n",
    "# Mostrar apenas o nome e o preço dos produtos\n",
    "consulta2 = cursor.execute(\"SELECT nome, valor FROM roupas\")\n",
    "print('Nomes e Valors:\\n')\n",
    "for estoque2 in cursor.fetchall():\n",
    "    print(f'{estoque2[0]} - {estoque2[1]}')\n",
    "    \n",
    "    \n",
    "\n"
   ]
  },
  {
   "cell_type": "markdown",
   "id": "df6065a0",
   "metadata": {},
   "source": [
    "## U - UPDATE"
   ]
  },
  {
   "cell_type": "code",
   "execution_count": null,
   "id": "ebc3058e",
   "metadata": {},
   "outputs": [
    {
     "name": "stdout",
     "output_type": "stream",
     "text": [
      "produto atualizado\n"
     ]
    }
   ],
   "source": [
    "cursor.execute(\"UPDATE roupas SET nome = ? WHERE id = ?\", ( 'Camisa Dry Fit Azul',1))\n",
    "\n",
    "conexao.commit()\n",
    "\n",
    "print('produto atualizado')\n"
   ]
  },
  {
   "cell_type": "markdown",
   "id": "3c8f12ea",
   "metadata": {},
   "source": [
    "## D - DELETE"
   ]
  },
  {
   "cell_type": "code",
   "execution_count": 49,
   "id": "95b63f45",
   "metadata": {},
   "outputs": [
    {
     "name": "stdout",
     "output_type": "stream",
     "text": [
      "item deletado com sucesso\n"
     ]
    }
   ],
   "source": [
    "cursor.execute(\"DELETE from roupas WHERE id= ?\", (11,))\n",
    "conexao.commit\n",
    "conexao.close\n",
    "\n",
    "print('item deletado com sucesso')"
   ]
  }
 ],
 "metadata": {
  "kernelspec": {
   "display_name": ".venv",
   "language": "python",
   "name": "python3"
  },
  "language_info": {
   "codemirror_mode": {
    "name": "ipython",
    "version": 3
   },
   "file_extension": ".py",
   "mimetype": "text/x-python",
   "name": "python",
   "nbconvert_exporter": "python",
   "pygments_lexer": "ipython3",
   "version": "3.13.2"
  }
 },
 "nbformat": 4,
 "nbformat_minor": 5
}
