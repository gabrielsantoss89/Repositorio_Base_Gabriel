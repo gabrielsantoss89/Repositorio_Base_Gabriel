{
 "cells": [
  {
   "cell_type": "code",
   "execution_count": 27,
   "id": "f4af8314",
   "metadata": {},
   "outputs": [],
   "source": [
    "#Criar um banco de dados com SQLlite\n",
    "\n",
    "import sqlite3\n",
    "\n",
    "conexao = sqlite3.connect('dados.db')\n",
    "cursor = conexao.cursor()"
   ]
  },
  {
   "cell_type": "code",
   "execution_count": 29,
   "id": "f8bf8ced",
   "metadata": {},
   "outputs": [
    {
     "data": {
      "text/plain": [
       "<function Connection.close()>"
      ]
     },
     "execution_count": 29,
     "metadata": {},
     "output_type": "execute_result"
    }
   ],
   "source": [
    "cursor.execute('''\n",
    "\n",
    "CREATE TABLE IF NOT EXISTS produtos (\n",
    "    id INTEGER PRIMARY KEY AUTOINCREMENT, \n",
    "    marca VARCHAR(50) NOT NULL,\n",
    "    produto VARCHAR (50) NOT NULL,\n",
    "    quantidade INTEGER,\n",
    "    valor DECIMAL NOT NULL \n",
    "    \n",
    ");               \n",
    "                            \n",
    "               \n",
    "               ''')\n",
    "\n",
    "\n",
    "\n",
    "conexao.commit()\n",
    "conexao.close"
   ]
  },
  {
   "cell_type": "code",
   "execution_count": 33,
   "id": "4fa06f12",
   "metadata": {},
   "outputs": [
    {
     "ename": "OperationalError",
     "evalue": "table produtos has no column named quantidade",
     "output_type": "error",
     "traceback": [
      "\u001b[31m---------------------------------------------------------------------------\u001b[39m",
      "\u001b[31mOperationalError\u001b[39m                          Traceback (most recent call last)",
      "\u001b[36mCell\u001b[39m\u001b[36m \u001b[39m\u001b[32mIn[33]\u001b[39m\u001b[32m, line 3\u001b[39m\n\u001b[32m      1\u001b[39m conexao = sqlite3.connect(\u001b[33m'\u001b[39m\u001b[33mdados.db\u001b[39m\u001b[33m'\u001b[39m)\n\u001b[32m      2\u001b[39m cursor = conexao.cursor()\n\u001b[32m----> \u001b[39m\u001b[32m3\u001b[39m \u001b[43mcursor\u001b[49m\u001b[43m.\u001b[49m\u001b[43mexecute\u001b[49m\u001b[43m(\u001b[49m\u001b[33;43m\"\u001b[39;49m\u001b[33;43mINSERT INTO produtos (\u001b[39;49m\u001b[33;43m'\u001b[39;49m\u001b[33;43mmarca\u001b[39;49m\u001b[33;43m'\u001b[39;49m\u001b[33;43m,\u001b[39;49m\u001b[33;43m'\u001b[39;49m\u001b[33;43mproduto\u001b[39;49m\u001b[33;43m'\u001b[39;49m\u001b[33;43m,\u001b[39;49m\u001b[33;43m'\u001b[39;49m\u001b[33;43mquantidade\u001b[39;49m\u001b[33;43m'\u001b[39;49m\u001b[33;43m,\u001b[39;49m\u001b[33;43m'\u001b[39;49m\u001b[33;43mvalor\u001b[39;49m\u001b[33;43m'\u001b[39;49m\u001b[33;43m) VALUES (\u001b[39;49m\u001b[33;43m'\u001b[39;49m\u001b[33;43mSantoss\u001b[39;49m\u001b[33;43m'\u001b[39;49m\u001b[33;43m,\u001b[39;49m\u001b[33;43m'\u001b[39;49m\u001b[33;43mMoletom Cinza\u001b[39;49m\u001b[33;43m'\u001b[39;49m\u001b[33;43m,8,250);\u001b[39;49m\u001b[33;43m\"\u001b[39;49m\u001b[43m)\u001b[49m\n\u001b[32m      4\u001b[39m cursor.execute(\u001b[33m\"\u001b[39m\u001b[33mINSERT INTO produtos (\u001b[39m\u001b[33m'\u001b[39m\u001b[33mmarca\u001b[39m\u001b[33m'\u001b[39m\u001b[33m,\u001b[39m\u001b[33m'\u001b[39m\u001b[33mproduto\u001b[39m\u001b[33m'\u001b[39m\u001b[33m,\u001b[39m\u001b[33m'\u001b[39m\u001b[33mquantidade\u001b[39m\u001b[33m'\u001b[39m\u001b[33m,\u001b[39m\u001b[33m'\u001b[39m\u001b[33mvalor\u001b[39m\u001b[33m'\u001b[39m\u001b[33m) VALUES (\u001b[39m\u001b[33m'\u001b[39m\u001b[33mSantoss\u001b[39m\u001b[33m'\u001b[39m\u001b[33m,\u001b[39m\u001b[33m'\u001b[39m\u001b[33mCalça Jeans\u001b[39m\u001b[33m'\u001b[39m\u001b[33m,6,200);\u001b[39m\u001b[33m\"\u001b[39m)\n\u001b[32m      6\u001b[39m conexao.commit()\n",
      "\u001b[31mOperationalError\u001b[39m: table produtos has no column named quantidade"
     ]
    }
   ],
   "source": [
    "conexao = sqlite3.connect('dados.db')\n",
    "cursor = conexao.cursor()\n",
    "cursor.execute(\"INSERT INTO produtos ('marca','produto','quantidade','valor') VALUES ('Santoss','Moletom Cinza',8,250);\")\n",
    "cursor.execute(\"INSERT INTO produtos ('marca','produto','quantidade','valor') VALUES ('Santoss','Calça Jeans',6,200);\")\n",
    "\n",
    "conexao.commit()\n",
    "               \n",
    "          \n",
    "               \n",
    "               \n",
    "            "
   ]
  },
  {
   "cell_type": "code",
   "execution_count": null,
   "id": "72f34ec6",
   "metadata": {},
   "outputs": [],
   "source": [
    "conexao = sqlite3.connect('dados.db')\n",
    "cursor = conexao.cursor()\n",
    "\n",
    "consulta = cursor.execute(\"select * from produtos;\")\n",
    "imprimir = consulta.fetchall()\n",
    "\n",
    "for i in imprimir:\n",
    "    print(i)\n",
    "    "
   ]
  }
 ],
 "metadata": {
  "kernelspec": {
   "display_name": "Python 3",
   "language": "python",
   "name": "python3"
  },
  "language_info": {
   "codemirror_mode": {
    "name": "ipython",
    "version": 3
   },
   "file_extension": ".py",
   "mimetype": "text/x-python",
   "name": "python",
   "nbconvert_exporter": "python",
   "pygments_lexer": "ipython3",
   "version": "3.13.2"
  }
 },
 "nbformat": 4,
 "nbformat_minor": 5
}
